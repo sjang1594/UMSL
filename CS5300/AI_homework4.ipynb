{
  "nbformat": 4,
  "nbformat_minor": 0,
  "metadata": {
    "colab": {
      "name": "AI_homework4.ipynb",
      "provenance": []
    },
    "kernelspec": {
      "name": "python3",
      "display_name": "Python 3"
    }
  },
  "cells": [
    {
      "cell_type": "code",
      "metadata": {
        "id": "ghgY8Sb246_I",
        "colab_type": "code",
        "outputId": "2ece7114-85ce-4154-824e-541f8eb34981",
        "colab": {
          "base_uri": "https://localhost:8080/",
          "height": 71
        }
      },
      "source": [
        "#Page_Rank\n",
        "#N = 3 \n",
        "#damping parameter is 0.7\n",
        "import numpy as np\n",
        "\n",
        "#n = 3\n",
        "#damp_factor = 0.7\n",
        "#PR_A = (1-damp_factor)/3 + damp_factor *(PR_B/2)\n",
        "#PR_B = (1-damp_factor)/3 + damp_factor*(PR_A + PR_C)\n",
        "#PR_C = (1-damp_factor)/3 + damp_factor*(PR_B/2)\n",
        "\n",
        "#Then this following equation becomes three different equations\n",
        "#PR_A = .1 + 7*(PR_B)/20\n",
        "#PR_B = .1 + 7*(PR_A+PR_C)/10\n",
        "#PR_C = .1 + 7*(PR_B)/20\n",
        "\n",
        "#Can it solve the three different equation with use of numpy\n",
        "#In order to solve the page rank score for each we have to set this as linear equation as following\n",
        "#-PR_A + (7/20)*PR_B + 0*PR_C = -.1\n",
        "#(7/10)*PR_A - PR_B + (7/10)*PR_C = -.1\n",
        "#0*PR_A + (7/20)*PR_B - PR_C = -.1 \n",
        "\n",
        "#using a numpy, you can calculate the linear equations \n",
        "coefficient = np.array([[-1, 7/20, 0],\n",
        "                       [7/10, -1, 7/10],\n",
        "                       [0, 7/20, -1]])\n",
        "\n",
        "constant = np.array([-.1, -.1,-.1])\n",
        "\n",
        "solution = np.linalg.solve(coefficient, constant)\n",
        "\n",
        "print(\"Rank Socre A:\", solution[0])\n",
        "print(\"Rank Socre B:\", solution[1])\n",
        "print(\"Rank Socre C:\", solution[2])\n"
      ],
      "execution_count": 0,
      "outputs": [
        {
          "output_type": "stream",
          "text": [
            "Rank Socre A: 0.2647058823529411\n",
            "Rank Socre B: 0.4705882352941176\n",
            "Rank Socre C: 0.2647058823529412\n"
          ],
          "name": "stdout"
        }
      ]
    },
    {
      "cell_type": "code",
      "metadata": {
        "id": "HpVLWtnYFAtn",
        "colab_type": "code",
        "colab": {}
      },
      "source": [
        ""
      ],
      "execution_count": 0,
      "outputs": []
    }
  ]
}
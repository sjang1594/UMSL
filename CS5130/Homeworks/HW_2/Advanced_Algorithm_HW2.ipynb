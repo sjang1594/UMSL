{
  "nbformat": 4,
  "nbformat_minor": 0,
  "metadata": {
    "colab": {
      "name": "Advanced_Algorithm_HW2.ipynb",
      "provenance": [],
      "collapsed_sections": [
        "4ywUMTZuQSIi",
        "3tAKLFsg7Gju",
        "tKZcGy2DQ9Ut",
        "5eGTyeapQgeB",
        "BioTTnvmQs2a",
        "TLh7Wk7DDKsb"
      ]
    },
    "kernelspec": {
      "name": "python3",
      "display_name": "Python 3"
    }
  },
  "cells": [
    {
      "cell_type": "markdown",
      "metadata": {
        "id": "4ywUMTZuQSIi",
        "colab_type": "text"
      },
      "source": [
        "# **Question 2 Code from Homework 2**"
      ]
    },
    {
      "cell_type": "code",
      "metadata": {
        "id": "WFDnP0EF4wPf",
        "colab_type": "code",
        "colab": {
          "base_uri": "https://localhost:8080/",
          "height": 537
        },
        "outputId": "b15f419c-d6f4-470c-9925-6e42816b7183"
      },
      "source": [
        "# Recursive solution to the rod-cutting problem (top-down approach)\n",
        "import sys\n",
        "#p = (-1000, 1,5,8,9,10,17,17,20,24,30)\n",
        "p = (-1000, 1,5,8,9,10,17,17,20,24,30, 32, 34, 36, 38, 40, 42, 44, 46, 48, 50, 52, 54, 56, 58, 60, 62, 64, 66, 68)\n",
        "\n",
        "def CUT_ROD(p, n):\n",
        "      if n == 0:\n",
        "            return 0\n",
        "      q = -1000000\n",
        "      for i in range(1, n+1):\n",
        "            q = max(q, p[i] + CUT_ROD(p, n-i))\n",
        "      return q\n",
        "\n",
        "print (\"\")\n",
        "print (\"L = \" + str(len(p)))\n",
        "\n",
        "print (\"\")\n",
        "for i in range(1, len(p)):\n",
        "      sys.stdout.flush()\n",
        "      print (str(i) + \" (p=\"+str(p[i])+\") => \" + str(CUT_ROD(p, i)))"
      ],
      "execution_count": null,
      "outputs": [
        {
          "output_type": "stream",
          "text": [
            "\n",
            "L = 30\n",
            "\n",
            "1 (p=1) => 1\n",
            "2 (p=5) => 5\n",
            "3 (p=8) => 8\n",
            "4 (p=9) => 10\n",
            "5 (p=10) => 13\n",
            "6 (p=17) => 17\n",
            "7 (p=17) => 18\n",
            "8 (p=20) => 22\n",
            "9 (p=24) => 25\n",
            "10 (p=30) => 30\n",
            "11 (p=32) => 32\n",
            "12 (p=34) => 35\n",
            "13 (p=36) => 38\n",
            "14 (p=38) => 40\n",
            "15 (p=40) => 43\n",
            "16 (p=42) => 47\n",
            "17 (p=44) => 49\n",
            "18 (p=46) => 52\n",
            "19 (p=48) => 55\n",
            "20 (p=50) => 60\n",
            "21 (p=52) => 62\n",
            "22 (p=54) => 65\n",
            "23 (p=56) => 68\n",
            "24 (p=58) => 70\n",
            "25 (p=60) => 73\n",
            "26 (p=62) => 77\n",
            "27 (p=64) => 79\n",
            "28 (p=66) => 82\n",
            "29 (p=68) => 85\n"
          ],
          "name": "stdout"
        }
      ]
    },
    {
      "cell_type": "markdown",
      "metadata": {
        "id": "3tAKLFsg7Gju",
        "colab_type": "text"
      },
      "source": [
        "# **Question 2 - Recursive Function - Eddited to check the individual answers**\n",
        "\n",
        "* If you have a rod length 5, then the cut will be 2 and 3, and the left output is the maximum revenue.\n",
        "\n"
      ]
    },
    {
      "cell_type": "code",
      "metadata": {
        "id": "zhxcXoXf6mBh",
        "colab_type": "code",
        "colab": {
          "base_uri": "https://localhost:8080/",
          "height": 34
        },
        "outputId": "e5087425-08ee-4534-c3da-5a3a8da5b93d"
      },
      "source": [
        "# Recursive solution to the rod-cutting problem (top-down approach)\n",
        "import sys\n",
        "#p = (-1000, 1,5,8,9,10,17,17,20,24,30)\n",
        "p = (1,5,8,9,10,17,17,20,24,30, 32, 34, 36, 38, 40, 42, 44, 46, 48, 50, 52, 54, 56, 58, 60, 62, 64, 66, 68)\n",
        "\n",
        "def CUT_ROD(p, n):\n",
        "  if n == 0:\n",
        "    return 0, []\n",
        "  q = -100000\n",
        "\n",
        "  for i in range(n):\n",
        "    next, marker = CUT_ROD(p, n - i - 1)\n",
        "    if p[i] + next > q:\n",
        "      q = p[i] + next\n",
        "      best_current = i\n",
        "      best_cut = marker\n",
        "  best_cut.insert(0, best_current + 1)\n",
        "  return q, best_cut\n",
        "\n",
        "print(CUT_ROD(p, 5))"
      ],
      "execution_count": null,
      "outputs": [
        {
          "output_type": "stream",
          "text": [
            "(13, [2, 3])\n"
          ],
          "name": "stdout"
        }
      ]
    },
    {
      "cell_type": "markdown",
      "metadata": {
        "id": "tKZcGy2DQ9Ut",
        "colab_type": "text"
      },
      "source": [
        "# **Recursive Function - eddited to check the every answer**\n",
        "* Depending on the length(n), on right side of output tells me (max_rev, [where to cut]).\n",
        "\n",
        "* Then from inside [where to cut], the first index represent where would be the first cut"
      ]
    },
    {
      "cell_type": "code",
      "metadata": {
        "id": "AEc0uyKYQ8qL",
        "colab_type": "code",
        "colab": {
          "base_uri": "https://localhost:8080/",
          "height": 488
        },
        "outputId": "e7656415-88da-4ef2-bddf-476f485528ba"
      },
      "source": [
        "# Recursive solution to the rod-cutting problem (top-down approach)\n",
        "import sys\n",
        "#p = (-1000, 1,5,8,9,10,17,17,20,24,30)\n",
        "p = (1,5,8,9,10,17,17,20,24,30, 32, 34, 36, 38, 40, 42, 44, 46, 48, 50, 52, 54, 56, 58, 60, 62, 64, 66, 68)\n",
        "\n",
        "def CUT_ROD(p, n):\n",
        "  if n == 0:\n",
        "    return 0, []\n",
        "  q = -100000\n",
        "\n",
        "  for i in range(n):\n",
        "    next, marker = CUT_ROD(p, n - i - 1)\n",
        "    if p[i] + next > q:\n",
        "      q = p[i] + next\n",
        "      best_current = i\n",
        "      best_cut = marker\n",
        "  best_cut.insert(0, best_current + 1)\n",
        "  return q, best_cut\n",
        "\n",
        "print (\"\")\n",
        "for i in range(1, len(p)):\n",
        "      sys.stdout.flush()\n",
        "      print (str(i) + \" (p=\"+str(p[i])+\") => \" + str(CUT_ROD(p, i)))"
      ],
      "execution_count": null,
      "outputs": [
        {
          "output_type": "stream",
          "text": [
            "\n",
            "1 (p=5) => (1, [1])\n",
            "2 (p=8) => (5, [2])\n",
            "3 (p=9) => (8, [3])\n",
            "4 (p=10) => (10, [2, 2])\n",
            "5 (p=17) => (13, [2, 3])\n",
            "6 (p=17) => (17, [6])\n",
            "7 (p=20) => (18, [1, 6])\n",
            "8 (p=24) => (22, [2, 6])\n",
            "9 (p=30) => (25, [3, 6])\n",
            "10 (p=32) => (30, [10])\n",
            "11 (p=34) => (32, [11])\n",
            "12 (p=36) => (35, [2, 10])\n",
            "13 (p=38) => (38, [3, 10])\n",
            "14 (p=40) => (40, [2, 2, 10])\n",
            "15 (p=42) => (43, [2, 3, 10])\n",
            "16 (p=44) => (47, [6, 10])\n",
            "17 (p=46) => (49, [6, 11])\n",
            "18 (p=48) => (52, [2, 6, 10])\n",
            "19 (p=50) => (55, [3, 6, 10])\n",
            "20 (p=52) => (60, [10, 10])\n",
            "21 (p=54) => (62, [10, 11])\n",
            "22 (p=56) => (65, [2, 10, 10])\n",
            "23 (p=58) => (68, [3, 10, 10])\n",
            "24 (p=60) => (70, [2, 2, 10, 10])\n",
            "25 (p=62) => (73, [2, 3, 10, 10])\n",
            "26 (p=64) => (77, [6, 10, 10])\n",
            "27 (p=66) => (79, [6, 10, 11])\n",
            "28 (p=68) => (82, [2, 6, 10, 10])\n"
          ],
          "name": "stdout"
        }
      ]
    },
    {
      "cell_type": "markdown",
      "metadata": {
        "id": "5eGTyeapQgeB",
        "colab_type": "text"
      },
      "source": [
        "# **Dynamic Programming - Bottom-up Approach to check the individual answers**"
      ]
    },
    {
      "cell_type": "code",
      "metadata": {
        "id": "owwr5LGm5Q1j",
        "colab_type": "code",
        "colab": {
          "base_uri": "https://localhost:8080/",
          "height": 87
        },
        "outputId": "e4be3c4d-14ff-4269-9af1-7cc81440cc8c"
      },
      "source": [
        "#Rod-cutting problem (bottom-up approach)\n",
        "import sys\n",
        "#p = (-1000, 1,5,8,9,10,17,17,20,24,30)\n",
        "p = (-1000, 1,5,8,9,10,17,17,20,24,30, 32, 34, 36, 38, 40, 42, 44, 46, 48, 50, 52, 54, 56, 58, 60, 62, 64, 66, 68)\n",
        "\n",
        "def CUT_ROD(p, n):\n",
        "  r = [0]*len(p)\n",
        "  s = [0]*len(p)\n",
        "\n",
        "  for j in range(1, n+1):\n",
        "    q = -100000\n",
        "\n",
        "    for i in range(1, j+1):\n",
        "      if q < p[i] + r[j - i]:\n",
        "        q = p[i] + r[j - i]\n",
        "        s[j] = i\n",
        "    r[j] = q\n",
        "  \n",
        "  return r, s\n",
        "\n",
        "def PRINT_CUT_ROD(p, n):\n",
        "  (r, s) = CUT_ROD(p, n)\n",
        "  while n > 0:\n",
        "    n = n - s[n]\n",
        "  \n",
        "  return s\n",
        "\n",
        "print (\"\")\n",
        "print (\"L = \" + str(len(p)))\n",
        "\n",
        "print (\"\")\n",
        "sys.stdout.flush()\n",
        "print(str(PRINT_CUT_ROD(p, 5)))\n"
      ],
      "execution_count": null,
      "outputs": [
        {
          "output_type": "stream",
          "text": [
            "\n",
            "L = 30\n",
            "\n",
            "[0, 1, 2, 3, 2, 2, 0, 0, 0, 0, 0, 0, 0, 0, 0, 0, 0, 0, 0, 0, 0, 0, 0, 0, 0, 0, 0, 0, 0, 0]\n"
          ],
          "name": "stdout"
        }
      ]
    },
    {
      "cell_type": "markdown",
      "metadata": {
        "id": "BioTTnvmQs2a",
        "colab_type": "text"
      },
      "source": [
        "# **Dynamic Programming - Bottom-up Approach to check the every answer**"
      ]
    },
    {
      "cell_type": "code",
      "metadata": {
        "id": "XtBPdEk1Qnk4",
        "colab_type": "code",
        "colab": {
          "base_uri": "https://localhost:8080/",
          "height": 598
        },
        "outputId": "3523e803-bcef-417f-af2f-874962c447df"
      },
      "source": [
        "def CUT_ROD(p, n):\n",
        "  r = [0]*len(p)\n",
        "  s = [0]*len(p)\n",
        "\n",
        "  for j in range(1, n+1):\n",
        "    q = -100000\n",
        "\n",
        "    for i in range(1, j+1):\n",
        "      if q < p[i] + r[j - i]:\n",
        "        q = p[i] + r[j - i]\n",
        "        s[j] = i\n",
        "    r[j] = q\n",
        "  \n",
        "  return r, s\n",
        "\n",
        "def PRINT_CUT_ROD(p, n):\n",
        "  (r, s) = CUT_ROD(p, n)\n",
        "  while n > 0:\n",
        "    n = n - s[n]\n",
        "  \n",
        "  return s\n",
        "\n",
        "print (\"\")\n",
        "print (\"L = \" + str(len(p)))\n",
        "\n",
        "print (\"\")\n",
        "\n",
        "for i in range(1, len(p)):\n",
        "      sys.stdout.flush()\n",
        "      start_time = time.time()\n",
        "      print (str(i) + \" (p=\"+str(p[i])+\") => \" + str(PRINT_CUT_ROD(p, i)))\n",
        "\n",
        "print(\"Running Time on Bottom Up Method --- %s seconds ---\" % (time.time()- start_time))"
      ],
      "execution_count": null,
      "outputs": [
        {
          "output_type": "stream",
          "text": [
            "\n",
            "L = 30\n",
            "\n",
            "1 (p=1) => [0, 1, 0, 0, 0, 0, 0, 0, 0, 0, 0, 0, 0, 0, 0, 0, 0, 0, 0, 0, 0, 0, 0, 0, 0, 0, 0, 0, 0, 0]\n",
            "2 (p=5) => [0, 1, 2, 0, 0, 0, 0, 0, 0, 0, 0, 0, 0, 0, 0, 0, 0, 0, 0, 0, 0, 0, 0, 0, 0, 0, 0, 0, 0, 0]\n",
            "3 (p=8) => [0, 1, 2, 3, 0, 0, 0, 0, 0, 0, 0, 0, 0, 0, 0, 0, 0, 0, 0, 0, 0, 0, 0, 0, 0, 0, 0, 0, 0, 0]\n",
            "4 (p=9) => [0, 1, 2, 3, 2, 0, 0, 0, 0, 0, 0, 0, 0, 0, 0, 0, 0, 0, 0, 0, 0, 0, 0, 0, 0, 0, 0, 0, 0, 0]\n",
            "5 (p=10) => [0, 1, 2, 3, 2, 2, 0, 0, 0, 0, 0, 0, 0, 0, 0, 0, 0, 0, 0, 0, 0, 0, 0, 0, 0, 0, 0, 0, 0, 0]\n",
            "6 (p=17) => [0, 1, 2, 3, 2, 2, 6, 0, 0, 0, 0, 0, 0, 0, 0, 0, 0, 0, 0, 0, 0, 0, 0, 0, 0, 0, 0, 0, 0, 0]\n",
            "7 (p=17) => [0, 1, 2, 3, 2, 2, 6, 1, 0, 0, 0, 0, 0, 0, 0, 0, 0, 0, 0, 0, 0, 0, 0, 0, 0, 0, 0, 0, 0, 0]\n",
            "8 (p=20) => [0, 1, 2, 3, 2, 2, 6, 1, 2, 0, 0, 0, 0, 0, 0, 0, 0, 0, 0, 0, 0, 0, 0, 0, 0, 0, 0, 0, 0, 0]\n",
            "9 (p=24) => [0, 1, 2, 3, 2, 2, 6, 1, 2, 3, 0, 0, 0, 0, 0, 0, 0, 0, 0, 0, 0, 0, 0, 0, 0, 0, 0, 0, 0, 0]\n",
            "10 (p=30) => [0, 1, 2, 3, 2, 2, 6, 1, 2, 3, 10, 0, 0, 0, 0, 0, 0, 0, 0, 0, 0, 0, 0, 0, 0, 0, 0, 0, 0, 0]\n",
            "11 (p=32) => [0, 1, 2, 3, 2, 2, 6, 1, 2, 3, 10, 11, 0, 0, 0, 0, 0, 0, 0, 0, 0, 0, 0, 0, 0, 0, 0, 0, 0, 0]\n",
            "12 (p=34) => [0, 1, 2, 3, 2, 2, 6, 1, 2, 3, 10, 11, 2, 0, 0, 0, 0, 0, 0, 0, 0, 0, 0, 0, 0, 0, 0, 0, 0, 0]\n",
            "13 (p=36) => [0, 1, 2, 3, 2, 2, 6, 1, 2, 3, 10, 11, 2, 3, 0, 0, 0, 0, 0, 0, 0, 0, 0, 0, 0, 0, 0, 0, 0, 0]\n",
            "14 (p=38) => [0, 1, 2, 3, 2, 2, 6, 1, 2, 3, 10, 11, 2, 3, 2, 0, 0, 0, 0, 0, 0, 0, 0, 0, 0, 0, 0, 0, 0, 0]\n",
            "15 (p=40) => [0, 1, 2, 3, 2, 2, 6, 1, 2, 3, 10, 11, 2, 3, 2, 2, 0, 0, 0, 0, 0, 0, 0, 0, 0, 0, 0, 0, 0, 0]\n",
            "16 (p=42) => [0, 1, 2, 3, 2, 2, 6, 1, 2, 3, 10, 11, 2, 3, 2, 2, 6, 0, 0, 0, 0, 0, 0, 0, 0, 0, 0, 0, 0, 0]\n",
            "17 (p=44) => [0, 1, 2, 3, 2, 2, 6, 1, 2, 3, 10, 11, 2, 3, 2, 2, 6, 6, 0, 0, 0, 0, 0, 0, 0, 0, 0, 0, 0, 0]\n",
            "18 (p=46) => [0, 1, 2, 3, 2, 2, 6, 1, 2, 3, 10, 11, 2, 3, 2, 2, 6, 6, 2, 0, 0, 0, 0, 0, 0, 0, 0, 0, 0, 0]\n",
            "19 (p=48) => [0, 1, 2, 3, 2, 2, 6, 1, 2, 3, 10, 11, 2, 3, 2, 2, 6, 6, 2, 3, 0, 0, 0, 0, 0, 0, 0, 0, 0, 0]\n",
            "20 (p=50) => [0, 1, 2, 3, 2, 2, 6, 1, 2, 3, 10, 11, 2, 3, 2, 2, 6, 6, 2, 3, 10, 0, 0, 0, 0, 0, 0, 0, 0, 0]\n",
            "21 (p=52) => [0, 1, 2, 3, 2, 2, 6, 1, 2, 3, 10, 11, 2, 3, 2, 2, 6, 6, 2, 3, 10, 10, 0, 0, 0, 0, 0, 0, 0, 0]\n",
            "22 (p=54) => [0, 1, 2, 3, 2, 2, 6, 1, 2, 3, 10, 11, 2, 3, 2, 2, 6, 6, 2, 3, 10, 10, 2, 0, 0, 0, 0, 0, 0, 0]\n",
            "23 (p=56) => [0, 1, 2, 3, 2, 2, 6, 1, 2, 3, 10, 11, 2, 3, 2, 2, 6, 6, 2, 3, 10, 10, 2, 3, 0, 0, 0, 0, 0, 0]\n",
            "24 (p=58) => [0, 1, 2, 3, 2, 2, 6, 1, 2, 3, 10, 11, 2, 3, 2, 2, 6, 6, 2, 3, 10, 10, 2, 3, 2, 0, 0, 0, 0, 0]\n",
            "25 (p=60) => [0, 1, 2, 3, 2, 2, 6, 1, 2, 3, 10, 11, 2, 3, 2, 2, 6, 6, 2, 3, 10, 10, 2, 3, 2, 2, 0, 0, 0, 0]\n",
            "26 (p=62) => [0, 1, 2, 3, 2, 2, 6, 1, 2, 3, 10, 11, 2, 3, 2, 2, 6, 6, 2, 3, 10, 10, 2, 3, 2, 2, 6, 0, 0, 0]\n",
            "27 (p=64) => [0, 1, 2, 3, 2, 2, 6, 1, 2, 3, 10, 11, 2, 3, 2, 2, 6, 6, 2, 3, 10, 10, 2, 3, 2, 2, 6, 6, 0, 0]\n",
            "28 (p=66) => [0, 1, 2, 3, 2, 2, 6, 1, 2, 3, 10, 11, 2, 3, 2, 2, 6, 6, 2, 3, 10, 10, 2, 3, 2, 2, 6, 6, 2, 0]\n",
            "29 (p=68) => [0, 1, 2, 3, 2, 2, 6, 1, 2, 3, 10, 11, 2, 3, 2, 2, 6, 6, 2, 3, 10, 10, 2, 3, 2, 2, 6, 6, 2, 3]\n",
            "Running Time on Bottom Up Method --- 0.00026869773864746094 seconds ---\n"
          ],
          "name": "stdout"
        }
      ]
    },
    {
      "cell_type": "markdown",
      "metadata": {
        "id": "TLh7Wk7DDKsb",
        "colab_type": "text"
      },
      "source": [
        "# **Let's Check the Running Time**\n",
        "* What we wanted to do is to check which running time is faster by comparing recursive method versus dynamic programming approach. \n",
        "\n",
        "* recursive method vs dynamic programming(Top-Down)"
      ]
    },
    {
      "cell_type": "code",
      "metadata": {
        "id": "avq-tPZ3DKMN",
        "colab_type": "code",
        "colab": {
          "base_uri": "https://localhost:8080/",
          "height": 578
        },
        "outputId": "c0d6e8f6-f801-438b-c606-e8834787e81e"
      },
      "source": [
        "import time\n",
        "import sys\n",
        "p = (-1000, 1,5,8,9,10,17,17,20,24,30, 32, 34, 36, 38, 40, 42, 44, 46, 48, 50, 52, 54, 56, 58, 60, 62, 64, 66, 68)\n",
        "\n",
        "def CUT_ROD(p, n):\n",
        "      if n == 0:\n",
        "            return 0\n",
        "      q = -1000000\n",
        "      for i in range(1, n+1):\n",
        "            q = max(q, p[i] + CUT_ROD(p, n-i))\n",
        "      return q\n",
        "\n",
        "print (\"\")\n",
        "print (\"L = \" + str(len(p)))\n",
        "\n",
        "print (\"\")\n",
        "for i in range(1, len(p)):\n",
        "      sys.stdout.flush()\n",
        "      start_time = time.time()\n",
        "      print (str(i) + \" (p=\"+str(p[i])+\") => \" + str(CUT_ROD(p, i)))\n",
        "\n",
        "print(\"Running Time on Recursive Method --- %s seconds ---\" % (time.time()- start_time))"
      ],
      "execution_count": null,
      "outputs": [
        {
          "output_type": "stream",
          "text": [
            "\n",
            "L = 30\n",
            "\n",
            "1 (p=1) => 1\n",
            "2 (p=5) => 5\n",
            "3 (p=8) => 8\n",
            "4 (p=9) => 10\n",
            "5 (p=10) => 13\n",
            "6 (p=17) => 17\n",
            "7 (p=17) => 18\n",
            "8 (p=20) => 22\n",
            "9 (p=24) => 25\n",
            "10 (p=30) => 30\n",
            "11 (p=32) => 32\n",
            "12 (p=34) => 35\n",
            "13 (p=36) => 38\n",
            "14 (p=38) => 40\n",
            "15 (p=40) => 43\n",
            "16 (p=42) => 47\n",
            "17 (p=44) => 49\n",
            "18 (p=46) => 52\n",
            "19 (p=48) => 55\n",
            "20 (p=50) => 60\n",
            "21 (p=52) => 62\n",
            "22 (p=54) => 65\n",
            "23 (p=56) => 68\n",
            "24 (p=58) => 70\n",
            "25 (p=60) => 73\n",
            "26 (p=62) => 77\n",
            "27 (p=64) => 79\n",
            "28 (p=66) => 82\n",
            "29 (p=68) => 85\n",
            "Running Time on Recursive Method --- 213.05873942375183 seconds ---\n"
          ],
          "name": "stdout"
        }
      ]
    },
    {
      "cell_type": "code",
      "metadata": {
        "id": "f5HFH07gFVVm",
        "colab_type": "code",
        "colab": {
          "base_uri": "https://localhost:8080/",
          "height": 598
        },
        "outputId": "9b7ce739-9856-42a8-bab0-a93b4de6dda6"
      },
      "source": [
        "def CUT_ROD(p, n):\n",
        "  r = [0]*len(p)\n",
        "  s = [0]*len(p)\n",
        "\n",
        "  for j in range(1, n+1):\n",
        "    q = -100000\n",
        "\n",
        "    for i in range(1, j+1):\n",
        "      if q < p[i] + r[j - i]:\n",
        "        q = p[i] + r[j - i]\n",
        "        s[j] = i\n",
        "    r[j] = q\n",
        "  \n",
        "  return r, s\n",
        "\n",
        "def PRINT_CUT_ROD(p, n):\n",
        "  (r, s) = CUT_ROD(p, n)\n",
        "  while n > 0:\n",
        "    n = n - s[n]\n",
        "  \n",
        "  return s\n",
        "\n",
        "print (\"\")\n",
        "print (\"L = \" + str(len(p)))\n",
        "\n",
        "print (\"\")\n",
        "\n",
        "for i in range(1, len(p)):\n",
        "      sys.stdout.flush()\n",
        "      start_time = time.time()\n",
        "      print (str(i) + \" (p=\"+str(p[i])+\") => \" + str(PRINT_CUT_ROD(p, i)))\n",
        "\n",
        "print(\"Running Time on Bottom Up Method --- %s seconds ---\" % (time.time()- start_time))"
      ],
      "execution_count": null,
      "outputs": [
        {
          "output_type": "stream",
          "text": [
            "\n",
            "L = 30\n",
            "\n",
            "1 (p=1) => [0, 1, 0, 0, 0, 0, 0, 0, 0, 0, 0, 0, 0, 0, 0, 0, 0, 0, 0, 0, 0, 0, 0, 0, 0, 0, 0, 0, 0, 0]\n",
            "2 (p=5) => [0, 1, 2, 0, 0, 0, 0, 0, 0, 0, 0, 0, 0, 0, 0, 0, 0, 0, 0, 0, 0, 0, 0, 0, 0, 0, 0, 0, 0, 0]\n",
            "3 (p=8) => [0, 1, 2, 3, 0, 0, 0, 0, 0, 0, 0, 0, 0, 0, 0, 0, 0, 0, 0, 0, 0, 0, 0, 0, 0, 0, 0, 0, 0, 0]\n",
            "4 (p=9) => [0, 1, 2, 3, 2, 0, 0, 0, 0, 0, 0, 0, 0, 0, 0, 0, 0, 0, 0, 0, 0, 0, 0, 0, 0, 0, 0, 0, 0, 0]\n",
            "5 (p=10) => [0, 1, 2, 3, 2, 2, 0, 0, 0, 0, 0, 0, 0, 0, 0, 0, 0, 0, 0, 0, 0, 0, 0, 0, 0, 0, 0, 0, 0, 0]\n",
            "6 (p=17) => [0, 1, 2, 3, 2, 2, 6, 0, 0, 0, 0, 0, 0, 0, 0, 0, 0, 0, 0, 0, 0, 0, 0, 0, 0, 0, 0, 0, 0, 0]\n",
            "7 (p=17) => [0, 1, 2, 3, 2, 2, 6, 1, 0, 0, 0, 0, 0, 0, 0, 0, 0, 0, 0, 0, 0, 0, 0, 0, 0, 0, 0, 0, 0, 0]\n",
            "8 (p=20) => [0, 1, 2, 3, 2, 2, 6, 1, 2, 0, 0, 0, 0, 0, 0, 0, 0, 0, 0, 0, 0, 0, 0, 0, 0, 0, 0, 0, 0, 0]\n",
            "9 (p=24) => [0, 1, 2, 3, 2, 2, 6, 1, 2, 3, 0, 0, 0, 0, 0, 0, 0, 0, 0, 0, 0, 0, 0, 0, 0, 0, 0, 0, 0, 0]\n",
            "10 (p=30) => [0, 1, 2, 3, 2, 2, 6, 1, 2, 3, 10, 0, 0, 0, 0, 0, 0, 0, 0, 0, 0, 0, 0, 0, 0, 0, 0, 0, 0, 0]\n",
            "11 (p=32) => [0, 1, 2, 3, 2, 2, 6, 1, 2, 3, 10, 11, 0, 0, 0, 0, 0, 0, 0, 0, 0, 0, 0, 0, 0, 0, 0, 0, 0, 0]\n",
            "12 (p=34) => [0, 1, 2, 3, 2, 2, 6, 1, 2, 3, 10, 11, 2, 0, 0, 0, 0, 0, 0, 0, 0, 0, 0, 0, 0, 0, 0, 0, 0, 0]\n",
            "13 (p=36) => [0, 1, 2, 3, 2, 2, 6, 1, 2, 3, 10, 11, 2, 3, 0, 0, 0, 0, 0, 0, 0, 0, 0, 0, 0, 0, 0, 0, 0, 0]\n",
            "14 (p=38) => [0, 1, 2, 3, 2, 2, 6, 1, 2, 3, 10, 11, 2, 3, 2, 0, 0, 0, 0, 0, 0, 0, 0, 0, 0, 0, 0, 0, 0, 0]\n",
            "15 (p=40) => [0, 1, 2, 3, 2, 2, 6, 1, 2, 3, 10, 11, 2, 3, 2, 2, 0, 0, 0, 0, 0, 0, 0, 0, 0, 0, 0, 0, 0, 0]\n",
            "16 (p=42) => [0, 1, 2, 3, 2, 2, 6, 1, 2, 3, 10, 11, 2, 3, 2, 2, 6, 0, 0, 0, 0, 0, 0, 0, 0, 0, 0, 0, 0, 0]\n",
            "17 (p=44) => [0, 1, 2, 3, 2, 2, 6, 1, 2, 3, 10, 11, 2, 3, 2, 2, 6, 6, 0, 0, 0, 0, 0, 0, 0, 0, 0, 0, 0, 0]\n",
            "18 (p=46) => [0, 1, 2, 3, 2, 2, 6, 1, 2, 3, 10, 11, 2, 3, 2, 2, 6, 6, 2, 0, 0, 0, 0, 0, 0, 0, 0, 0, 0, 0]\n",
            "19 (p=48) => [0, 1, 2, 3, 2, 2, 6, 1, 2, 3, 10, 11, 2, 3, 2, 2, 6, 6, 2, 3, 0, 0, 0, 0, 0, 0, 0, 0, 0, 0]\n",
            "20 (p=50) => [0, 1, 2, 3, 2, 2, 6, 1, 2, 3, 10, 11, 2, 3, 2, 2, 6, 6, 2, 3, 10, 0, 0, 0, 0, 0, 0, 0, 0, 0]\n",
            "21 (p=52) => [0, 1, 2, 3, 2, 2, 6, 1, 2, 3, 10, 11, 2, 3, 2, 2, 6, 6, 2, 3, 10, 10, 0, 0, 0, 0, 0, 0, 0, 0]\n",
            "22 (p=54) => [0, 1, 2, 3, 2, 2, 6, 1, 2, 3, 10, 11, 2, 3, 2, 2, 6, 6, 2, 3, 10, 10, 2, 0, 0, 0, 0, 0, 0, 0]\n",
            "23 (p=56) => [0, 1, 2, 3, 2, 2, 6, 1, 2, 3, 10, 11, 2, 3, 2, 2, 6, 6, 2, 3, 10, 10, 2, 3, 0, 0, 0, 0, 0, 0]\n",
            "24 (p=58) => [0, 1, 2, 3, 2, 2, 6, 1, 2, 3, 10, 11, 2, 3, 2, 2, 6, 6, 2, 3, 10, 10, 2, 3, 2, 0, 0, 0, 0, 0]\n",
            "25 (p=60) => [0, 1, 2, 3, 2, 2, 6, 1, 2, 3, 10, 11, 2, 3, 2, 2, 6, 6, 2, 3, 10, 10, 2, 3, 2, 2, 0, 0, 0, 0]\n",
            "26 (p=62) => [0, 1, 2, 3, 2, 2, 6, 1, 2, 3, 10, 11, 2, 3, 2, 2, 6, 6, 2, 3, 10, 10, 2, 3, 2, 2, 6, 0, 0, 0]\n",
            "27 (p=64) => [0, 1, 2, 3, 2, 2, 6, 1, 2, 3, 10, 11, 2, 3, 2, 2, 6, 6, 2, 3, 10, 10, 2, 3, 2, 2, 6, 6, 0, 0]\n",
            "28 (p=66) => [0, 1, 2, 3, 2, 2, 6, 1, 2, 3, 10, 11, 2, 3, 2, 2, 6, 6, 2, 3, 10, 10, 2, 3, 2, 2, 6, 6, 2, 0]\n",
            "29 (p=68) => [0, 1, 2, 3, 2, 2, 6, 1, 2, 3, 10, 11, 2, 3, 2, 2, 6, 6, 2, 3, 10, 10, 2, 3, 2, 2, 6, 6, 2, 3]\n",
            "Running Time on Bottom Up Method --- 0.0003237724304199219 seconds ---\n"
          ],
          "name": "stdout"
        }
      ]
    },
    {
      "cell_type": "code",
      "metadata": {
        "id": "MSsyvBFAKhhT",
        "colab_type": "code",
        "colab": {}
      },
      "source": [
        ""
      ],
      "execution_count": null,
      "outputs": []
    }
  ]
}
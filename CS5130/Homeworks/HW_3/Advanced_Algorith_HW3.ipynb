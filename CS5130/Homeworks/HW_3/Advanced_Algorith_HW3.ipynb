{
  "nbformat": 4,
  "nbformat_minor": 0,
  "metadata": {
    "colab": {
      "name": "Advanced_Algorith_HW3",
      "provenance": [],
      "collapsed_sections": [
        "owfbvTM8fVfs",
        "NNYeiC1ffgEx",
        "FwhEmZ7Ufme9",
        "sDGyQ4KUftNc",
        "e0VdSNQfYU-E"
      ]
    },
    "kernelspec": {
      "name": "python3",
      "display_name": "Python 3"
    }
  },
  "cells": [
    {
      "cell_type": "markdown",
      "metadata": {
        "id": "ecMbXqTvfCoL",
        "colab_type": "text"
      },
      "source": [
        "# **Code**"
      ]
    },
    {
      "cell_type": "markdown",
      "metadata": {
        "id": "owfbvTM8fVfs",
        "colab_type": "text"
      },
      "source": [
        "## **Homework 3 - Question 3**\n",
        "\n",
        "\n",
        "For the problem of calculating nth Fibonacci number - (a) propose a recursive solution (implementation), (b) a dynamic programming solution using the top-down approach, and (c) a dynamic programming solution using the bottom-up approach. Test the running time of the three implementations with large values of n and discuss your running time."
      ]
    },
    {
      "cell_type": "code",
      "metadata": {
        "id": "moXeGc0Jh5o3",
        "colab_type": "code",
        "colab": {
          "base_uri": "https://localhost:8080/",
          "height": 50
        },
        "outputId": "748c4f9a-dc7b-44b2-955d-d98f526a56a5"
      },
      "source": [
        "# import required library for testing the running time\n",
        "import time\n",
        "import numpy as np\n",
        "import matplotlib.pyplot as plt\n",
        "\n",
        "#create number from 1 through 40\n",
        "n = np.arange(1, 41)\n",
        "print(n)"
      ],
      "execution_count": null,
      "outputs": [
        {
          "output_type": "stream",
          "text": [
            "[ 1  2  3  4  5  6  7  8  9 10 11 12 13 14 15 16 17 18 19 20 21 22 23 24\n",
            " 25 26 27 28 29 30 31 32 33 34 35 36 37 38 39 40]\n"
          ],
          "name": "stdout"
        }
      ]
    },
    {
      "cell_type": "markdown",
      "metadata": {
        "id": "NNYeiC1ffgEx",
        "colab_type": "text"
      },
      "source": [
        "### **Recursive Solution**\n",
        "\n",
        "Code was taken from [Fibonacci Numbers](https://www.geeksforgeeks.org/python-program-for-program-for-fibonacci-numbers-2/)"
      ]
    },
    {
      "cell_type": "code",
      "metadata": {
        "id": "wkByLUw7ffrY",
        "colab_type": "code",
        "colab": {}
      },
      "source": [
        "def Fibonacci_recur(n):\n",
        "  if n == 0:\n",
        "    return 0\n",
        "  elif n == 1:\n",
        "    return 1\n",
        "  else:\n",
        "    return Fibonacci_recur(n-1)+Fibonacci_recur(n-2)"
      ],
      "execution_count": null,
      "outputs": []
    },
    {
      "cell_type": "code",
      "metadata": {
        "id": "2UGmo7wNiATO",
        "colab_type": "code",
        "colab": {
          "base_uri": "https://localhost:8080/",
          "height": 667
        },
        "outputId": "1fe874ad-0b54-4a2c-ac73-fefea1c099bf"
      },
      "source": [
        "#test with some numbers\n",
        "\n",
        "time_stamp_rec = []\n",
        "start_time = time.time()\n",
        "for i in n:\n",
        "  Fibonacci_recur(i)\n",
        "  time_stamp_rec.append(time.time() - start_time)\n",
        "  print(\"value = \"+str(Fibonacci_recur(i))+\" => time = \"+ str(time.time() - start_time))"
      ],
      "execution_count": null,
      "outputs": [
        {
          "output_type": "stream",
          "text": [
            "value = 1 => time = 6.914138793945312e-05\n",
            "value = 1 => time = 0.0001647472381591797\n",
            "value = 2 => time = 0.00020956993103027344\n",
            "value = 3 => time = 0.0002598762512207031\n",
            "value = 5 => time = 0.0005078315734863281\n",
            "value = 8 => time = 0.0006055831909179688\n",
            "value = 13 => time = 0.0007197856903076172\n",
            "value = 21 => time = 0.0008654594421386719\n",
            "value = 34 => time = 0.0010900497436523438\n",
            "value = 55 => time = 0.0014014244079589844\n",
            "value = 89 => time = 0.0018584728240966797\n",
            "value = 144 => time = 0.002590656280517578\n",
            "value = 233 => time = 0.0036962032318115234\n",
            "value = 377 => time = 0.005432844161987305\n",
            "value = 610 => time = 0.008265018463134766\n",
            "value = 987 => time = 0.012833118438720703\n",
            "value = 1597 => time = 0.020700931549072266\n",
            "value = 2584 => time = 0.034900665283203125\n",
            "value = 4181 => time = 0.05407094955444336\n",
            "value = 6765 => time = 0.08812379837036133\n",
            "value = 10946 => time = 0.14228558540344238\n",
            "value = 17711 => time = 0.2259964942932129\n",
            "value = 28657 => time = 0.3701605796813965\n",
            "value = 46368 => time = 0.5918152332305908\n",
            "value = 75025 => time = 0.9410786628723145\n",
            "value = 121393 => time = 1.4961161613464355\n",
            "value = 196418 => time = 2.4032325744628906\n",
            "value = 317811 => time = 3.8940036296844482\n",
            "value = 514229 => time = 6.253232955932617\n",
            "value = 832040 => time = 10.040261507034302\n",
            "value = 1346269 => time = 16.186235427856445\n",
            "value = 2178309 => time = 26.173032522201538\n",
            "value = 3524578 => time = 42.34812545776367\n",
            "value = 5702887 => time = 69.00400924682617\n",
            "value = 9227465 => time = 111.9678680896759\n",
            "value = 14930352 => time = 181.98784852027893\n",
            "value = 24157817 => time = 295.0913803577423\n",
            "value = 39088169 => time = 476.6162545681\n",
            "value = 63245986 => time = 770.604325056076\n",
            "value = 102334155 => time = 1256.485253572464\n"
          ],
          "name": "stdout"
        }
      ]
    },
    {
      "cell_type": "markdown",
      "metadata": {
        "id": "FwhEmZ7Ufme9",
        "colab_type": "text"
      },
      "source": [
        "### **DP - Top-down Approach**"
      ]
    },
    {
      "cell_type": "code",
      "metadata": {
        "id": "az3XujCPe-l2",
        "colab_type": "code",
        "colab": {}
      },
      "source": [
        "F = [-1]*(len(n)+1)\n",
        "def top_down_fibonacci(n):\n",
        "  if(F[n] < 0):\n",
        "    if ( n == 0):\n",
        "      F[n] = 0\n",
        "    elif (n == 1):\n",
        "      F[n] = 1\n",
        "    else:\n",
        "      F[n] = top_down_fibonacci(n-1) + top_down_fibonacci(n-2)\n",
        "  return F[n]"
      ],
      "execution_count": null,
      "outputs": []
    },
    {
      "cell_type": "code",
      "metadata": {
        "id": "3xWQ2oQdJJIN",
        "colab_type": "code",
        "colab": {
          "base_uri": "https://localhost:8080/",
          "height": 667
        },
        "outputId": "552e1d29-8d3d-4eb9-d52a-3ffa642506da"
      },
      "source": [
        "time_stamp_top_down = []\n",
        "start_time = time.time()\n",
        "for i in n:\n",
        "  top_down_fibonacci(i)\n",
        "  time_stamp_top_down.append(time.time() - start_time)\n",
        "  print(\"value = \"+str(top_down_fibonacci(i))+\" => time = \"+ str(time.time() - start_time))"
      ],
      "execution_count": null,
      "outputs": [
        {
          "output_type": "stream",
          "text": [
            "value = 1 => time = 0.00011038780212402344\n",
            "value = 1 => time = 0.0005691051483154297\n",
            "value = 2 => time = 0.0007865428924560547\n",
            "value = 3 => time = 0.0009613037109375\n",
            "value = 5 => time = 0.0011754035949707031\n",
            "value = 8 => time = 0.0013513565063476562\n",
            "value = 13 => time = 0.0015327930450439453\n",
            "value = 21 => time = 0.0017268657684326172\n",
            "value = 34 => time = 0.0018918514251708984\n",
            "value = 55 => time = 0.002057313919067383\n",
            "value = 89 => time = 0.0022225379943847656\n",
            "value = 144 => time = 0.0023970603942871094\n",
            "value = 233 => time = 0.0025899410247802734\n",
            "value = 377 => time = 0.002758026123046875\n",
            "value = 610 => time = 0.002927541732788086\n",
            "value = 987 => time = 0.003089427947998047\n",
            "value = 1597 => time = 0.003248453140258789\n",
            "value = 2584 => time = 0.0034437179565429688\n",
            "value = 4181 => time = 0.0036568641662597656\n",
            "value = 6765 => time = 0.003823995590209961\n",
            "value = 10946 => time = 0.003991365432739258\n",
            "value = 17711 => time = 0.004148006439208984\n",
            "value = 28657 => time = 0.004311323165893555\n",
            "value = 46368 => time = 0.004489421844482422\n",
            "value = 75025 => time = 0.00468134880065918\n",
            "value = 121393 => time = 0.004879474639892578\n",
            "value = 196418 => time = 0.005103588104248047\n",
            "value = 317811 => time = 0.00529170036315918\n",
            "value = 514229 => time = 0.005507469177246094\n",
            "value = 832040 => time = 0.0056934356689453125\n",
            "value = 1346269 => time = 0.005856513977050781\n",
            "value = 2178309 => time = 0.006092548370361328\n",
            "value = 3524578 => time = 0.006266355514526367\n",
            "value = 5702887 => time = 0.00645899772644043\n",
            "value = 9227465 => time = 0.006649017333984375\n",
            "value = 14930352 => time = 0.0068132877349853516\n",
            "value = 24157817 => time = 0.0069963932037353516\n",
            "value = 39088169 => time = 0.0071794986724853516\n",
            "value = 63245986 => time = 0.007338762283325195\n",
            "value = 102334155 => time = 0.0075664520263671875\n"
          ],
          "name": "stdout"
        }
      ]
    },
    {
      "cell_type": "markdown",
      "metadata": {
        "id": "sDGyQ4KUftNc",
        "colab_type": "text"
      },
      "source": [
        "### **DP - Bottom-up Approach**"
      ]
    },
    {
      "cell_type": "code",
      "metadata": {
        "id": "rrRFWyKHf6t1",
        "colab_type": "code",
        "colab": {}
      },
      "source": [
        "F = [0]*(len(n)+1)\n",
        "\n",
        "def bottom_up(n):\n",
        "  F[n] = 0\n",
        "  F[1] = 1\n",
        "\n",
        "  for i in range(2, n+1):\n",
        "    F[i] = F[i-1] + F[i-2]\n",
        "  return F[n]"
      ],
      "execution_count": null,
      "outputs": []
    },
    {
      "cell_type": "code",
      "metadata": {
        "id": "3fyk8_JZKi36",
        "colab_type": "code",
        "colab": {
          "base_uri": "https://localhost:8080/",
          "height": 667
        },
        "outputId": "fda29032-27b8-43e3-833e-7d841826faa0"
      },
      "source": [
        "time_stamp_bot_up = []\n",
        "start_time = time.time()\n",
        "for i in n:\n",
        "  bottom_up(i)\n",
        "  time_stamp_bot_up.append(time.time() - start_time)\n",
        "  print(\"value = \"+str(bottom_up(i))+\" => time = \"+ str(time.time() - start_time))"
      ],
      "execution_count": null,
      "outputs": [
        {
          "output_type": "stream",
          "text": [
            "value = 1 => time = 0.00013494491577148438\n",
            "value = 1 => time = 0.00022792816162109375\n",
            "value = 2 => time = 0.00025272369384765625\n",
            "value = 3 => time = 0.0002760887145996094\n",
            "value = 5 => time = 0.00029969215393066406\n",
            "value = 8 => time = 0.00032138824462890625\n",
            "value = 13 => time = 0.00034809112548828125\n",
            "value = 21 => time = 0.0003719329833984375\n",
            "value = 34 => time = 0.0005295276641845703\n",
            "value = 55 => time = 0.0005767345428466797\n",
            "value = 89 => time = 0.0006129741668701172\n",
            "value = 144 => time = 0.0006482601165771484\n",
            "value = 233 => time = 0.0007088184356689453\n",
            "value = 377 => time = 0.0007469654083251953\n",
            "value = 610 => time = 0.0008232593536376953\n",
            "value = 987 => time = 0.0008654594421386719\n",
            "value = 1597 => time = 0.0009067058563232422\n",
            "value = 2584 => time = 0.0009474754333496094\n",
            "value = 4181 => time = 0.0009884834289550781\n",
            "value = 6765 => time = 0.0010325908660888672\n",
            "value = 10946 => time = 0.0010752677917480469\n",
            "value = 17711 => time = 0.0011174678802490234\n",
            "value = 28657 => time = 0.0011622905731201172\n",
            "value = 46368 => time = 0.0012080669403076172\n",
            "value = 75025 => time = 0.0012543201446533203\n",
            "value = 121393 => time = 0.0013000965118408203\n",
            "value = 196418 => time = 0.0013523101806640625\n",
            "value = 317811 => time = 0.001401662826538086\n",
            "value = 514229 => time = 0.0014510154724121094\n",
            "value = 832040 => time = 0.0015048980712890625\n",
            "value = 1346269 => time = 0.0015583038330078125\n",
            "value = 2178309 => time = 0.00160980224609375\n",
            "value = 3524578 => time = 0.0016875267028808594\n",
            "value = 5702887 => time = 0.001867055892944336\n",
            "value = 9227465 => time = 0.0019235610961914062\n",
            "value = 14930352 => time = 0.001974344253540039\n",
            "value = 24157817 => time = 0.0020287036895751953\n",
            "value = 39088169 => time = 0.0020804405212402344\n",
            "value = 63245986 => time = 0.002134561538696289\n",
            "value = 102334155 => time = 0.0021848678588867188\n"
          ],
          "name": "stdout"
        }
      ]
    },
    {
      "cell_type": "code",
      "metadata": {
        "id": "HHmV3RM3SK3Q",
        "colab_type": "code",
        "colab": {
          "base_uri": "https://localhost:8080/",
          "height": 333
        },
        "outputId": "74793257-4014-4cca-a607-e9e67ec80f42"
      },
      "source": [
        "plt.plot(n, time_stamp_rec, label = \"Recursive Function\")\n",
        "plt.plot(n, time_stamp_top_down, label = \"Top-Down DP\")\n",
        "plt.plot(n, time_stamp_bot_up, label = \"Bottom-Up DP\")\n",
        "\n",
        "plt.title(\"Time Complexity vs Fibonnaci Number(n)\")\n",
        "plt.xlabel(\"n\")\n",
        "plt.ylabel(\"time complexity\")\n",
        "plt.axis([0, 40, 0, 400])\n",
        "plt.legend(loc=\"upper center\", bbox_to_anchor=(1.2, 1.2), shadow=True, ncol=1)"
      ],
      "execution_count": null,
      "outputs": [
        {
          "output_type": "execute_result",
          "data": {
            "text/plain": [
              "<matplotlib.legend.Legend at 0x7f77b4009358>"
            ]
          },
          "metadata": {
            "tags": []
          },
          "execution_count": 17
        },
        {
          "output_type": "display_data",
          "data": {
            "image/png": "[encoded data removed]",
            "text/plain": [
              "<Figure size 432x288 with 1 Axes>"
            ]
          },
          "metadata": {
            "tags": [],
            "needs_background": "light"
          }
        }
      ]
    },
    {
      "cell_type": "markdown",
      "metadata": {
        "id": "e0VdSNQfYU-E",
        "colab_type": "text"
      },
      "source": [
        "### **It shows that recursive function of fibonacci number is growing exponentially as compare to Top-down DP and Bottom-up DP.**\n",
        "\n",
        "Then Let's take a look at comparison between top-down and bottom up approach"
      ]
    },
    {
      "cell_type": "code",
      "metadata": {
        "id": "1OP3_UXcXKDj",
        "colab_type": "code",
        "colab": {
          "base_uri": "https://localhost:8080/",
          "height": 333
        },
        "outputId": "89da375b-5ab2-4d29-f502-7cab73819e71"
      },
      "source": [
        "plt.plot(n, time_stamp_top_down, label = \"Top-Down DP\")\n",
        "plt.plot(n, time_stamp_bot_up, label = \"Bottom-Up DP\")\n",
        "\n",
        "plt.title(\"Time Complexity vs Fibonnaci Number(n)\")\n",
        "plt.xlabel(\"n\")\n",
        "plt.ylabel(\"time complexity\")\n",
        "plt.axis([1, 40, 0, 0.01])\n",
        "plt.legend(loc=\"upper center\", bbox_to_anchor=(1.2, 1.2), shadow=True, ncol=1)"
      ],
      "execution_count": null,
      "outputs": [
        {
          "output_type": "execute_result",
          "data": {
            "text/plain": [
              "<matplotlib.legend.Legend at 0x7f77b3c6f2b0>"
            ]
          },
          "metadata": {
            "tags": []
          },
          "execution_count": 25
        },
        {
          "output_type": "display_data",
          "data": {
            "image/png": "[encoded data removed]",
            "text/plain": [
              "<Figure size 432x288 with 1 Axes>"
            ]
          },
          "metadata": {
            "tags": [],
            "needs_background": "light"
          }
        }
      ]
    },
    {
      "cell_type": "markdown",
      "metadata": {
        "id": "7ceRSMSnaQe9",
        "colab_type": "text"
      },
      "source": [
        "### **The plot above shows that the top-down DP takes more time to calculate the fibonnaci number as compared to bottom-up approach. However, they are pretty similar time complexity. Again, the benefit of using dynamic programming is to reduce running time by not calculating subproblem repeatedly**"
      ]
    },
    {
      "cell_type": "code",
      "metadata": {
        "id": "9I8KColTZ5V9",
        "colab_type": "code",
        "colab": {
          "base_uri": "https://localhost:8080/",
          "height": 33
        },
        "outputId": "8b9642f0-ae53-4182-b191-f8de224718f0"
      },
      "source": [
        "start_time = time.time()\n",
        "for i in n:\n",
        "  Fibonacci_recur(i)\n",
        "\n",
        "print(\"time = \"+ str(time.time() - start_time))"
      ],
      "execution_count": null,
      "outputs": [
        {
          "output_type": "stream",
          "text": [
            "time = 659.1278176307678\n"
          ],
          "name": "stdout"
        }
      ]
    },
    {
      "cell_type": "code",
      "metadata": {
        "id": "0xRKlNRyZuYL",
        "colab_type": "code",
        "colab": {
          "base_uri": "https://localhost:8080/",
          "height": 33
        },
        "outputId": "9d0646a4-af60-4053-e422-174de73c6624"
      },
      "source": [
        "start_time = time.time()\n",
        "for i in n:\n",
        "  top_down_fibonacci(i)\n",
        "  \n",
        "print(\"time = \"+ str(time.time() - start_time))"
      ],
      "execution_count": null,
      "outputs": [
        {
          "output_type": "stream",
          "text": [
            "time = 0.00015544891357421875\n"
          ],
          "name": "stdout"
        }
      ]
    },
    {
      "cell_type": "code",
      "metadata": {
        "id": "6-ywPp0PZ3k_",
        "colab_type": "code",
        "colab": {
          "base_uri": "https://localhost:8080/",
          "height": 33
        },
        "outputId": "a2935a2b-acda-4483-c1b2-c2a701b2048e"
      },
      "source": [
        "start_time = time.time()\n",
        "for i in n:\n",
        "  bottom_up(i)\n",
        "\n",
        "print(\"time = \"+ str(time.time() - start_time))"
      ],
      "execution_count": null,
      "outputs": [
        {
          "output_type": "stream",
          "text": [
            "time = 0.00033283233642578125\n"
          ],
          "name": "stdout"
        }
      ]
    },
    {
      "cell_type": "markdown",
      "metadata": {
        "id": "Dkv33cxwZV9y",
        "colab_type": "text"
      },
      "source": [
        "## **HW3 - Q3 : Result**\n",
        "\n",
        "* Naive recursive way took s, which it takes forever to figure out calculating fibonacci number if n goes up due to the repetition of subproblem again. (Time = 659.13s)\n",
        "\n",
        "* To reduce the running time and avoid calculating subproblem again, DP can be used : Top-down(memoization) & Bottom-up \n",
        "\n",
        "* Bottom-up was slightly faster execution time than the top-down. But they are similar time complexity. \n",
        "  * Top-Down DP  : Time - 0.00015544891357421875s \n",
        "  * Bottom-up DP : Time - 0.00033283233642578125s\n",
        "\n"
      ]
    },
    {
      "cell_type": "markdown",
      "metadata": {
        "id": "mxDOIH38dJEw",
        "colab_type": "text"
      },
      "source": [
        "## **Homework 3 - Question 5** \n",
        "The \"non structural protein 2\" (`nsp2`) protein is found to be linked to the mechanism of Coronavirus ([read more](https://onlinelibrary.wiley.com/doi/10.1002/jmv.25719)). Below is the sequence of this protein (first two lines, ignoring the line starting with a hash). In addition to the sequence of this protein, below are the sequences of two other similar (homologous) proteins (see [nsp2.hhba3m.txt](./nsp2.hhba3m.txt) for the alignment). Implement a dynamic programming solution to calculate the longest common subsequence (LCS) between - (a) `nsp2` and `A0A1B3Q5V8` and (b) `nsp2` and `Q9YMB7`. These are two problems that can be solved using the same implementation/code. Lower-case letters in the sequences, if there are any, must be skipped totally. **You should print not just the length of the LCS but also the actual LCS.**\n",
        "\n",
        "\n",
        "Part of code was taken from [Dynamic Programming](https://www.geeksforgeeks.org/printing-longest-common-subsequence/)\n"
      ]
    },
    {
      "cell_type": "markdown",
      "metadata": {
        "id": "fPe-rvxtdnG3",
        "colab_type": "text"
      },
      "source": [
        "```\n",
        "# The lines starting with > are header lines that are the names of the sequence\n",
        "# Lower-case letters in the sequences must be skipped totally.\n",
        ">nsp2\n",
        "AYTRYVDNNFCGPDGYPLECIKDLLARAGKASCTLSEQLDFIDTKRGVYCCREHEHEIAWYTERSEKSYELQTPFEIKLAKKFDTFNGECPNFVFPLNSIIKTIQPRVEKKKLDGFMGRIRSVYPVASPNECNQMCLSTLMKCDHCGETSWQTGDFVKATCEFCGTENLTKEGATTCGYLPQNAVVKIYCPACHNSEVGPEHSLAEYHNESGLKTILRKGGRTIAFGGCVFSYVGCHNKCAYWVPRASANIGCNHTGVVGEGSEGLNDNLLEILQKEKVNINIVGDFKLNEEIAIILASFSASTSAFVETVKGLDYKAFKQIVESCGNFKVTKGKAKKGAWNIGEQKSILSPLYAFASEAARVVRSIFSRTLETAQNSVRVLQKAAITILDGISQYSLRLIDAMMFTSDLATNNLVVMAYITGGVVQLTSQWLTNIFGTVYEKLKPVLDWLEEKFKEGVEFLRDGWEIVKFISTCACEIVGGQIVTCAKEIKESVQTFFKLVNKFLALCADSIIIGGAKLKALNLGETFVTHSKGLYRKCVKSREETGLLMPLKAPKEIIFLEGETLPTEVLTEEVVLKTGDLQPLEQPTSEAVEAPLVGTPVCINGLMLLEIKDTEKYCALAPNMMVTNNTFTLKGG\n",
        ">A0A1B3Q5V8\n",
        "FLTDQYGFDADGVLAAPIKEVLGDKGAGMSlveltkflgkyRTADGYELPSGIVKVAVKVVRKNLPVSKQSIFTVLGVTERVVDGFYYPYSTNSVVSYTKPRAGATVGNTVQSVMLSVYGTEAYNPVTPVVRLRCSSCDFYGWVPVKDLGCVTCSCAAVHQitsSCIDAESAGLIKQGAVMLVDRSPSMRVVPGNRlYVAFGGAIWSPIGKVNGVQVWVPRAYSCVAGDHSGAVGSGDVnTINKEIMSLIIDGVRIDDEVLEQPSCGVLIANLEDPSAAPRVHTVDSLRQLCVDNNvmlgDTplpKDEFHPgivGLSYHFYRACWYGVLTAKSFGAFKELLQSEEVRLSHFCANIRRCLDRALNWARTTGnvsllssSLVLKALAENLLDSVKNTPFLVGDLVKPVLDWIVEKMVLARDSVVSCAEAVLSLFNMQFTFAKGKFTFLKEKLNKSCVALRELLTVIVNKFATTVKWAGCKIDGFYNGDYHFFSAKGVLTEVQVCAKTLGAMLtPRQQRMEVEVLDGKYdAPVAITVPELEELNGTLEEVFGFDDLTLVRGSLVALASKVFVRTDDGLLFRYVKSGGVFLKAFRLRGG\n",
        ">Q9YMB7\n",
        "YVDQYMCGADGKPVieGDFKDYFGDEDIIEFEGEEYHCAWTTVRDEKPLNQQTLFTIQEIQYNLDIPHKLPNCATRHVAPPVKKNSKIVLsedYKKLYDIFGSPFMGNGDCLSKCFDTLHFIAATlRCPCGSESSGVGDWTGFKTACCglSGKVKGVTLGDIKPGDAVvtsMSAGKgVKFFANCVLQYAGDVEGVSIWKVIKTFTVDETVCTPGFEGELNDFIKPESKSLVACSVKRAFITGDIDDAVHDCIITGKLDLSTNLFGNVGlLFKKTPWFvQKCGALFVDAWKVVEELCGSLTLTYKQIYEVVASLCTSAFTIVNYkpTFVVPDNRVKDLVDKCVKVLVKAFDVFTQIITIAGIEAKCFVLGAKYLLFNNALVKLVSVKILGKkQKgLECAFfatsLVGATVNVTPKRTETATISLNKVDDVVAPGEGYIVIVGDMAFYKSGEYYFMMSSPNFVLTNNVFK\n",
        "```"
      ]
    },
    {
      "cell_type": "markdown",
      "metadata": {
        "id": "3-IrbyxlrqSN",
        "colab_type": "text"
      },
      "source": [
        "### **Using Bottom-up Approach**"
      ]
    },
    {
      "cell_type": "code",
      "metadata": {
        "id": "1KzrkdbQdVVX",
        "colab_type": "code",
        "colab": {}
      },
      "source": [
        "#Declare strings for nsp2 and compared_string\n",
        "nsp2 = \"AYTRYVDNNFCGPDGYPLECIKDLLARAGKASCTLSEQLDFIDTKRGVYCCREHEHEIAWYTERSEKSYELQTPFEIKLAKKFDTFNGECPNFVFPLNSIIKTIQPRVEKKKLDGFMGRIRSVYPVASPNECNQMCLSTLMKCDHCGETSWQTGDFVKATCEFCGTENLTKEGATTCGYLPQNAVVKIYCPACHNSEVGPEHSLAEYHNESGLKTILRKGGRTIAFGGCVFSYVGCHNKCAYWVPRASANIGCNHTGVVGEGSEGLNDNLLEILQKEKVNINIVGDFKLNEEIAIILASFSASTSAFVETVKGLDYKAFKQIVESCGNFKVTKGKAKKGAWNIGEQKSILSPLYAFASEAARVVRSIFSRTLETAQNSVRVLQKAAITILDGISQYSLRLIDAMMFTSDLATNNLVVMAYITGGVVQLTSQWLTNIFGTVYEKLKPVLDWLEEKFKEGVEFLRDGWEIVKFISTCACEIVGGQIVTCAKEIKESVQTFFKLVNKFLALCADSIIIGGAKLKALNLGETFVTHSKGLYRKCVKSREETGLLMPLKAPKEIIFLEGETLPTEVLTEEVVLKTGDLQPLEQPTSEAVEAPLVGTPVCINGLMLLEIKDTEKYCALAPNMMVTNNTFTLKGG\"\n",
        "compared_string1 = \"A0A1B3Q5V8\"\n",
        "\n",
        "nsp2_2 = \"FLTDQYGFDADGVLAAPIKEVLGDKGAGMSlveltkflgkyRTADGYELPSGIVKVAVKVVRKNLPVSKQSIFTVLGVTERVVDGFYYPYSTNSVVSYTKPRAGATVGNTVQSVMLSVYGTEAYNPVTPVVRLRCSSCDFYGWVPVKDLGCVTCSCAAVHQitsSCIDAESAGLIKQGAVMLVDRSPSMRVVPGNRlYVAFGGAIWSPIGKVNGVQVWVPRAYSCVAGDHSGAVGSGDVnTINKEIMSLIIDGVRIDDEVLEQPSCGVLIANLEDPSAAPRVHTVDSLRQLCVDNNvmlgDTplpKDEFHPgivGLSYHFYRACWYGVLTAKSFGAFKELLQSEEVRLSHFCANIRRCLDRALNWARTTGnvsllssSLVLKALAENLLDSVKNTPFLVGDLVKPVLDWIVEKMVLARDSVVSCAEAVLSLFNMQFTFAKGKFTFLKEKLNKSCVALRELLTVIVNKFATTVKWAGCKIDGFYNGDYHFFSAKGVLTEVQVCAKTLGAMLtPRQQRMEVEVLDGKYdAPVAITVPELEELNGTLEEVFGFDDLTLVRGSLVALASKVFVRTDDGLLFRYVKSGGVFLKAFRLRGG\"\n",
        "compared_string2 = \"Q9YMB7\"\n"
      ],
      "execution_count": null,
      "outputs": []
    },
    {
      "cell_type": "code",
      "metadata": {
        "id": "PibGfNl5ahy3",
        "colab_type": "code",
        "colab": {}
      },
      "source": [
        "def lcs(X, Y, m, n):\n",
        "  ## Create the array to store the value & Fill the 0 in the b array\n",
        "  ## b contains the length of LCS of X and Y\n",
        "  b = [[0 for i in range(n+1)] for i in range(m+1)]\n",
        "  \n",
        "  ## Bottom - up fashion.\n",
        "  for i in range(m+1):\n",
        "    for j in range(n+1):\n",
        "      ## Fill the 0 for first rows and columns.\n",
        "      if i == 0 or j == 0:\n",
        "        b[i][j] = 0\n",
        "      ## If element in X and Y are the same, add one to b[i][j-1].\n",
        "      elif X[i-1] == Y[j-1]:\n",
        "        b[i][j] = b[i][j-1]+1\n",
        "      ## IF element in X and Y are not the same, then get the max value into b\n",
        "      else:\n",
        "        b[i][j] = max(b[i-1][j], b[i][j-1])\n",
        "  \n",
        "\n",
        "  index = b[m][n]\n",
        "  ## Create a character array to store the string of b\n",
        "  lcs = [\"\"] * (index + 1)\n",
        "  lcs[index] = \"\"\n",
        "\n",
        "  i = m\n",
        "  j = n\n",
        "  ## Read from the bottom right\n",
        "  while i > 0 and j > 0:\n",
        "    \n",
        "    ## if X and Y are equal elements, then get the part of X and put it into lcs\n",
        "    ## The case \n",
        "    if X[i-1] == Y[j-1]:\n",
        "      lcs[index - 1] = X[i - 1]\n",
        "      ## Keep decrementing i, j, and index as shown in the lecture.\n",
        "      i -=1\n",
        "      j -=1\n",
        "      index-=1\n",
        "    \n",
        "    ## If b[i-1][j] > b[i][j-1], the case is moving-up sign, then just decrements\n",
        "    ## the i value\n",
        "    elif b[i-1][j] > b[i][j-1]:\n",
        "      i-=1\n",
        "    ## If b[i-1][j] = c[i][j-1] are same, the case is moving left, which means \n",
        "    ## decrement the j.\n",
        "    else:\n",
        "      j-=1\n",
        "  \n",
        "  ## Get rid of any empty elements\n",
        "  while (\"\" in lcs):\n",
        "    lcs.remove(\"\")\n",
        "  \n",
        "  ## Store the length of long commons sequence.\n",
        "  length = len(lcs)\n",
        "  print(\"LCS of X and Y is \"+\"\".join(lcs) + \" with length of \" + str(length))"
      ],
      "execution_count": null,
      "outputs": []
    },
    {
      "cell_type": "code",
      "metadata": {
        "id": "w1pDlvTDqOcf",
        "colab_type": "code",
        "colab": {
          "base_uri": "https://localhost:8080/",
          "height": 50
        },
        "outputId": "6068e6ba-4eb8-486e-ca8a-11c4d3c32822"
      },
      "source": [
        "#Testing the function for first problem\n",
        "m = len(nsp2)\n",
        "n = len(compared_string1)\n",
        "print(\"length of nsp2 : {} and length of compared string : {}\".format(m, n))\n",
        "\n",
        "lcs(nsp2, compared_string1, m, n)"
      ],
      "execution_count": null,
      "outputs": [
        {
          "output_type": "stream",
          "text": [
            "length of nsp2 : 638 and length of compared string : 10\n",
            "LCS of X and Y is AAQV with length of 4\n"
          ],
          "name": "stdout"
        }
      ]
    },
    {
      "cell_type": "code",
      "metadata": {
        "id": "VbrYkAtJslnG",
        "colab_type": "code",
        "colab": {
          "base_uri": "https://localhost:8080/",
          "height": 50
        },
        "outputId": "759b5f65-0213-40f9-a69a-16dc996069bb"
      },
      "source": [
        "#Testing the function for second problem\n",
        "m1 = len(nsp2_2)\n",
        "n1 = len(compared_string2)\n",
        "print(\"length of nsp2 : {} and length of compared string : {}\".format(m1, n1))\n",
        "\n",
        "lcs(nsp2_2, compared_string2, m1, n1)"
      ],
      "execution_count": null,
      "outputs": [
        {
          "output_type": "stream",
          "text": [
            "length of nsp2 : 595 and length of compared string : 6\n",
            "LCS of X and Y is QYM with length of 3\n"
          ],
          "name": "stdout"
        }
      ]
    },
    {
      "cell_type": "markdown",
      "metadata": {
        "id": "wjDY--N5dsG7",
        "colab_type": "text"
      },
      "source": [
        "## **Homework 3 - Question 6**\n",
        "Implement a dynamic programming solution to calculate the longest common subsequence (LCS) of `⟨1,0,0,1,0,1,0,1⟩` and `⟨0,1,0,1,1,0,1,1,0⟩` (CLRS: 15.4-1). You can reuse the code that you developed for solving Q#5."
      ]
    },
    {
      "cell_type": "code",
      "metadata": {
        "id": "MS1ETiKjdz0p",
        "colab_type": "code",
        "colab": {
          "base_uri": "https://localhost:8080/",
          "height": 50
        },
        "outputId": "192ceba1-7fa0-4190-cdfb-fececf0e4b19"
      },
      "source": [
        "string1 = \"10010101\"\n",
        "string2 = \"010110110\"\n",
        "\n",
        "m3 = len(string1)\n",
        "n3 = len(string2)\n",
        "\n",
        "print(\"length of string1 : {} and length of string2 : {}\".format(m3, n3))\n",
        "lcs(string1, string2, m3, n3)"
      ],
      "execution_count": null,
      "outputs": [
        {
          "output_type": "stream",
          "text": [
            "length of string1 : 8 and length of string2 : 9\n",
            "LCS of X and Y is 010101 with length of 6\n"
          ],
          "name": "stdout"
        }
      ]
    }
  ]
}